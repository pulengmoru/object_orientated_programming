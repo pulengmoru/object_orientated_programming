{
 "cells": [
  {
   "cell_type": "markdown",
   "metadata": {},
   "source": [
    "# part 1: Bank Account"
   ]
  },
  {
   "cell_type": "markdown",
   "metadata": {},
   "source": [
    "A Bank Account has a balance, an interest rate and a monthly fee.\n",
    "\n",
    "For example if a person has an interest rate of 12% (which is totally unrealistic but make the numbers easier) and they have R1000 in their bank account then they will receive (R1000 x 12% / 12) after one month of saving. That means they earned R10 in interest. Now if their monthly fee on that account is R50 then their final balance after 1 month is R1000+R10-R50 = R960.\n",
    "\n",
    "    Create a class called BankAccount. it should be constructed with the necessary parameters described above.\n",
    "    add a function to your bank account class called finishMonth(js) or finish_month(python). This function should update the balance accordingly\n",
    "    The balance of a bank account can also change if a deposit or withdrawal is made. Create a function called deposit and another one called withdraw\n"
   ]
  },
  {
   "cell_type": "code",
   "execution_count": null,
   "metadata": {},
   "outputs": [],
   "source": [
    "class BankAccount:\n",
    "\n",
    "    def __init__(self, interest, balance, monthly_fee, customer):\n",
    "        self.interest = interest\n",
    "        self.balance = balance\n",
    "        self.monthly_fee = monthly_fee\n",
    "        self.customer = customer\n",
    "        \n",
    "        def deposit(self,amount):\n",
    "        self.balance += amount\n",
    "        return self.balance\n",
    "    \n",
    "    def withdraw(self,amount):\n",
    "        if self.balnce < amount:\n",
    "            return \"Insufficient amount\"\n",
    "        else:\n",
    "            self.balance -= amount:       \n",
    "        return self.balance\n",
    "        \n",
    "\n",
    "    def finish_month(self):\n",
    "        interest = (self.balance*self_interest)/12\n",
    "        self.balance = self.balance + interest - self.monthly_fee\n",
    "        return self.balance\n",
    "\n",
    "    \n",
    "    "
   ]
  },
  {
   "cell_type": "markdown",
   "metadata": {},
   "source": [
    "# part 2: Bank"
   ]
  },
  {
   "cell_type": "markdown",
   "metadata": {},
   "source": [
    "Create a class called Bank. A Bank contains many bank accounts. A bank associates each bank account with a 10 digit number known as a bank account number. In OOP, this is called encapsulation.\n",
    "\n",
    "Create the following functions on your Bank class:\n",
    "    \n",
    "    withdraw(bank_account_number,amount)\n",
    "    deposit(bank_account_number,amount)\n",
    "    transfer(from_bank_account_number,to_bank_account_number, amount)\n"
   ]
  },
  {
   "cell_type": "code",
   "execution_count": null,
   "metadata": {},
   "outputs": [],
   "source": [
    "from bank_account import BankAccount\n",
    "\n",
    "class Bank:\n",
    "    def __init__(self, accounts):\n",
    "        self.__accounts = accounts\n",
    "        self.deposit = deposit\n",
    "\n",
    "    def withdraw(self,bank_account_number, amount, secret_password):\n",
    "        if len(bank_account_number) == 10:\n",
    "            account = self.__accounts.get(bank_account_number)\n",
    "\n",
    "            if account is None:\n",
    "                raise Exception(\"Account does not exist.\")\n",
    "\n",
    "            if account.customer.check_password(password) is False:\n",
    "                raise Exception(\"Wrong password\")\n",
    "\n",
    "        else:\n",
    "            raise Exception(\"Invalid accounts number\")\n",
    "        \n",
    "        account.withdraw(amount)\n",
    "        return account.balance\n",
    "\n",
    "    def deposit(bank_account_number, amount):\n",
    "        if len(bank_account_number) == 10:\n",
    "            account = self.__accounts.get(bank_account_number)\n",
    "\n",
    "            if account is None:\n",
    "                raise Exception(\"Account does not exist.\")\n",
    "\n",
    "            if account.customer.check_password(password) is False:\n",
    "                raise Exception(\"Wrong password\")\n",
    "\n",
    "        else:\n",
    "            raise Exception(\"Invalid accounts number\")\n",
    "        \n",
    "        account.deposit(amount)\n",
    "        return account.balance\n",
    "\n",
    "    def transfer(from_bank_account_number,to_bank_account_number, amount, secret_password):\n",
    "        if len(from_bank_account_number) == 10:\n",
    "            account = self.__accounts.get(bank_account_number)\n",
    "            if account is None:\n",
    "                raise Exception(\"Account does not exist.\")\n",
    "\n",
    "            if account.customer.check_password(password) is False:\n",
    "                raise Exception(\"Wrong password\")\n",
    "        \n",
    "        else:\n",
    "            raise Exception(\"Invalid accounts number\")\n",
    "        \n",
    "        account.transfer(amount)\n",
    "        return account.balance"
   ]
  },
  {
   "cell_type": "markdown",
   "metadata": {},
   "source": [
    "# Part 3: Customers"
   ]
  },
  {
   "cell_type": "markdown",
   "metadata": {},
   "source": [
    "This part is a little bit advanced. Stop and think before you write any code. Have a plan. Maybe even draw a picture of your plan\n",
    "\n",
    "Create a class called Customer. A customer can be associated with multiple bank accounts. Each customer also has a secret password. The customer should be able to update their password through use of a setPassword(js) or set_password(python) function.\n",
    "\n",
    "Whenever money is taken out of a bank account then the relevent customer’s secret password must be checked. You don’t need a special password when depositing money.\n",
    "\n",
    "Update your Bank functions to be like this:\n",
    "    \n",
    "    withdraw(bank_account_number,amount,secret_password)\n",
    "    deposit(bank_account_number,amount)\n",
    "    transfer(from_bank_account_number,to_bank_account_number,amount,secret_password)\n",
    "\n",
    "If a password is required and the wrong one is provided then raise an error that says wrong password"
   ]
  },
  {
   "cell_type": "code",
   "execution_count": null,
   "metadata": {},
   "outputs": [],
   "source": [
    "from bank_account import BankAccount\n",
    "from bank import Bank\n",
    "\n",
    "class Customer:\n",
    "    def __init__(self, secret_password):\n",
    "        self.__secret_password = secret_password\n",
    "\n",
    "    def set_password(self, new_password):\n",
    "        self.__secret_password = new_password\n",
    "\n",
    "    def check_password(self, password):\n",
    "        self.__secret_password = password\n",
    "        if password != secret_password:\n",
    "            raise Exception(\"password invalid\")\n",
    "\n",
    "        else:\n",
    "            if password == secret_password\n",
    "            return (\"password correct\")"
   ]
  },
  {
   "cell_type": "code",
   "execution_count": 8,
   "metadata": {},
   "outputs": [
    {
     "ename": "SyntaxError",
     "evalue": "invalid syntax (customer.py, line 13)",
     "output_type": "error",
     "traceback": [
      "Traceback \u001b[0;36m(most recent call last)\u001b[0m:\n",
      "  File \u001b[1;32m\"/home/puleng/anaconda3/lib/python3.7/site-packages/IPython/core/interactiveshell.py\"\u001b[0m, line \u001b[1;32m3296\u001b[0m, in \u001b[1;35mrun_code\u001b[0m\n    exec(code_obj, self.user_global_ns, self.user_ns)\n",
      "\u001b[0;36m  File \u001b[0;32m\"<ipython-input-8-cd6853fbc502>\"\u001b[0;36m, line \u001b[0;32m5\u001b[0;36m, in \u001b[0;35m<module>\u001b[0;36m\u001b[0m\n\u001b[0;31m    from customer import Customer\u001b[0m\n",
      "\u001b[0;36m  File \u001b[0;32m\"/home/puleng/Documents/umuzi_puleng/Puleng/oop_project/bank_classes/customer.py\"\u001b[0;36m, line \u001b[0;32m13\u001b[0m\n\u001b[0;31m    if password != secret_password\u001b[0m\n\u001b[0m                                  ^\u001b[0m\n\u001b[0;31mSyntaxError\u001b[0m\u001b[0;31m:\u001b[0m invalid syntax\n"
     ]
    }
   ],
   "source": [
    "#create an account for a customer\n",
    "\n",
    "from bank_account import BankAccount\n",
    "from bank import Bank\n",
    "from customer import Customer\n",
    "\n",
    "cust_1 = BankAccount(0.10, 2000, 50,'Gladys')\n",
    "print('account balance =', cust_1.get_balance())"
   ]
  },
  {
   "cell_type": "code",
   "execution_count": null,
   "metadata": {},
   "outputs": [],
   "source": []
  },
  {
   "cell_type": "code",
   "execution_count": null,
   "metadata": {},
   "outputs": [],
   "source": []
  }
 ],
 "metadata": {
  "kernelspec": {
   "display_name": "Python 3",
   "language": "python",
   "name": "python3"
  },
  "language_info": {
   "codemirror_mode": {
    "name": "ipython",
    "version": 3
   },
   "file_extension": ".py",
   "mimetype": "text/x-python",
   "name": "python",
   "nbconvert_exporter": "python",
   "pygments_lexer": "ipython3",
   "version": "3.7.3"
  }
 },
 "nbformat": 4,
 "nbformat_minor": 2
}
